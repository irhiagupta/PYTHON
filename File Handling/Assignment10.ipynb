{
 "cells": [
  {
   "cell_type": "markdown",
   "metadata": {},
   "source": [
    "# ASSIGNMENT 9: FILE HANDLING"
   ]
  },
  {
   "cell_type": "markdown",
   "metadata": {},
   "source": [
    "## Question 1: Read n lines of a file"
   ]
  },
  {
   "cell_type": "code",
   "execution_count": 6,
   "metadata": {},
   "outputs": [
    {
     "name": "stdout",
     "output_type": "stream",
     "text": [
      "Hi HELL NO\n",
      "how are you?\n",
      "today is a lovely morning dear \n",
      "have a healthy life ahead\n"
     ]
    }
   ],
   "source": [
    "f=open('test.txt')\n",
    "data=f.read()\n",
    "print(data)"
   ]
  },
  {
   "cell_type": "code",
   "execution_count": 7,
   "metadata": {},
   "outputs": [
    {
     "name": "stdout",
     "output_type": "stream",
     "text": [
      "Enter the number of lines you want to print2\n",
      "['Hi HELL NO\\n', 'how are you?\\n']\n"
     ]
    }
   ],
   "source": [
    "with open('test.txt','r') as f:\n",
    "    lines=f.readlines()\n",
    "    no_lines=int(input(\"Enter the number of lines you want to print\"))\n",
    "    print(lines[:no_lines])"
   ]
  },
  {
   "cell_type": "markdown",
   "metadata": {},
   "source": [
    "## Question 2: Count the frequency of a word in the file"
   ]
  },
  {
   "cell_type": "code",
   "execution_count": 24,
   "metadata": {},
   "outputs": [
    {
     "name": "stdout",
     "output_type": "stream",
     "text": [
      "['Hi', 'HELL', 'NO', 'how', 'are', 'you?', 'today', 'is', 'a', 'lovely', 'morning', 'dear', 'have', 'a', 'healthy', 'life', 'ahead']\n"
     ]
    }
   ],
   "source": [
    "f=open('test.txt')\n",
    "data=f.read()\n",
    "d=data.split()\n",
    "print(d)"
   ]
  },
  {
   "cell_type": "code",
   "execution_count": 27,
   "metadata": {},
   "outputs": [
    {
     "name": "stdout",
     "output_type": "stream",
     "text": [
      "Enter the word: how\n",
      "how 1\n"
     ]
    }
   ],
   "source": [
    "count=0\n",
    "check=input('Enter the word: ')\n",
    "for word in d:\n",
    "    if check==word:\n",
    "    count=count+1\n",
    "print(check,count)\n",
    "f.close()"
   ]
  },
  {
   "cell_type": "markdown",
   "metadata": {},
   "source": [
    "## Question 3: Copy the content of one file into another file"
   ]
  },
  {
   "cell_type": "code",
   "execution_count": 50,
   "metadata": {},
   "outputs": [
    {
     "name": "stdout",
     "output_type": "stream",
     "text": [
      "Hi HELL NO\n",
      "how are you?\n",
      "today is a lovely morning dear \n",
      "have a healthy life ahead\n"
     ]
    }
   ],
   "source": [
    "with open('test.txt') as f:\n",
    "    print(\"Data in First File: \",f.read())\n",
    "    fdata=f.read()\n",
    "   \n",
    "        "
   ]
  },
  {
   "cell_type": "code",
   "execution_count": 55,
   "metadata": {},
   "outputs": [
    {
     "name": "stdout",
     "output_type": "stream",
     "text": [
      "Data in Second File:  good luck\n",
      "\n"
     ]
    }
   ],
   "source": [
    "with open('sample.txt', 'r+') as m:\n",
    "    print('Data in Second File: ',m.read())\n",
    "    m.write(fdata)\n",
    "\n",
    "    "
   ]
  },
  {
   "cell_type": "code",
   "execution_count": 56,
   "metadata": {},
   "outputs": [
    {
     "name": "stdout",
     "output_type": "stream",
     "text": [
      "After copying from First to Second File:  good luck\n",
      "Hi HELL NO\n",
      "how are you?\n",
      "today is a lovely morning dear \n",
      "have a healthy life ahead\n"
     ]
    }
   ],
   "source": [
    "with open('sample.txt') as m:\n",
    "    print(\"After copying from First to Second File: \",m.read())"
   ]
  },
  {
   "cell_type": "markdown",
   "metadata": {},
   "source": [
    "## Question 4: Combine first line of A with corresponding line of B (make changes in B)\n"
   ]
  },
  {
   "cell_type": "code",
   "execution_count": 57,
   "metadata": {},
   "outputs": [
    {
     "name": "stdout",
     "output_type": "stream",
     "text": [
      "The Data from A:  qwert\n",
      "sdfg\n",
      "xcvbn\n",
      "poiuy\n"
     ]
    }
   ],
   "source": [
    "with open('test.txt') as f:\n",
    "    print(\"The Data from A: \",f.read())"
   ]
  },
  {
   "cell_type": "code",
   "execution_count": 60,
   "metadata": {},
   "outputs": [
    {
     "name": "stdout",
     "output_type": "stream",
     "text": [
      "['1234\\n', '567\\n', '234567\\n', '987']\n"
     ]
    }
   ],
   "source": [
    "with open('sample.txt') as m:\n",
    "    print(\"The Data from B: \",m.read())\n",
    "           "
   ]
  },
  {
   "cell_type": "code",
   "execution_count": 118,
   "metadata": {},
   "outputs": [],
   "source": [
    "with open('test.txt') as f:\n",
    "    with open('sample.txt','r+') as m:\n",
    "        a=f.read()\n",
    "        b=m.read()\n",
    "        aa=a.split()\n",
    "        bb=b.split()\n",
    "        for i in range(len(aa)):\n",
    "            x=str(aa[i]+bb[i]) + '\\n'\n",
    "            m.write(x)\n"
   ]
  },
  {
   "cell_type": "code",
   "execution_count": 119,
   "metadata": {},
   "outputs": [
    {
     "name": "stdout",
     "output_type": "stream",
     "text": [
      "The Data from B:  1234\n",
      "567\n",
      "234567\n",
      "987\n",
      "\n",
      "\n",
      "qwert1234\n",
      "sdfg567\n",
      "xcvbn234567\n",
      "poiuy987\n",
      "\n"
     ]
    }
   ],
   "source": [
    "with open('sample.txt') as m:\n",
    "    print(\"The Data from B: \",m.read())\n",
    "           "
   ]
  },
  {
   "cell_type": "markdown",
   "metadata": {},
   "source": [
    "## Question 5: Print random number and sort them into another file"
   ]
  },
  {
   "cell_type": "code",
   "execution_count": 106,
   "metadata": {},
   "outputs": [
    {
     "name": "stdout",
     "output_type": "stream",
     "text": [
      "\n"
     ]
    }
   ],
   "source": [
    "import random as r\n",
    "with open('abc.txt','r+') as f:\n",
    "    for i in range(10):\n",
    "        x=str(r.randint(1,101)) +'\\n'\n",
    "        f.write(x)\n",
    "    #print(f.read())"
   ]
  },
  {
   "cell_type": "code",
   "execution_count": 107,
   "metadata": {},
   "outputs": [
    {
     "name": "stdout",
     "output_type": "stream",
     "text": [
      "99\n",
      "65\n",
      "95\n",
      "77\n",
      "48\n",
      "28\n",
      "18\n",
      "25\n",
      "27\n",
      "44\n",
      "\n"
     ]
    }
   ],
   "source": [
    "with open('abc.txt') as f:\n",
    "    print(f.read())"
   ]
  },
  {
   "cell_type": "code",
   "execution_count": 154,
   "metadata": {},
   "outputs": [],
   "source": [
    "with open('abc.txt','r+') as f:\n",
    "    with open('result.txt','w') as r:\n",
    "        data=f.read()  \n",
    "        d=data.split()\n",
    "        d.sort()\n",
    "        r.write(str(d))\n",
    "        \n",
    "        \n",
    "    "
   ]
  },
  {
   "cell_type": "code",
   "execution_count": 155,
   "metadata": {},
   "outputs": [
    {
     "name": "stdout",
     "output_type": "stream",
     "text": [
      "['18', '25', '27', '28', '44', '48', '65', '77', '95', '99']\n"
     ]
    }
   ],
   "source": [
    "with open ('result.txt') as r:\n",
    "    print(r.read())\n",
    "    "
   ]
  },
  {
   "cell_type": "code",
   "execution_count": null,
   "metadata": {},
   "outputs": [],
   "source": []
  }
 ],
 "metadata": {
  "kernelspec": {
   "display_name": "Python 3",
   "language": "python",
   "name": "python3"
  },
  "language_info": {
   "codemirror_mode": {
    "name": "ipython",
    "version": 3
   },
   "file_extension": ".py",
   "mimetype": "text/x-python",
   "name": "python",
   "nbconvert_exporter": "python",
   "pygments_lexer": "ipython3",
   "version": "3.7.0"
  }
 },
 "nbformat": 4,
 "nbformat_minor": 2
}
