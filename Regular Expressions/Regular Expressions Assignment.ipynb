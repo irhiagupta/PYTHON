{
 "cells": [
  {
   "cell_type": "markdown",
   "metadata": {},
   "source": [
    "# Regular Expressions Assignment"
   ]
  },
  {
   "cell_type": "markdown",
   "metadata": {},
   "source": [
    "## Question 1: Valid Email Address"
   ]
  },
  {
   "cell_type": "code",
   "execution_count": 3,
   "metadata": {},
   "outputs": [
    {
     "name": "stdout",
     "output_type": "stream",
     "text": [
      "Enter the E-mail ID: r@1gmail.com\n",
      "Invalid E-mail Address\n"
     ]
    }
   ],
   "source": [
    "import re as r\n",
    "\n",
    "email = input(\"Enter the E-mail ID: \")\n",
    "matcher = r.finditer('^[a-z][a-zA-Z0-9]*[@](gmail.com|yahoo.com)', email)\n",
    "count = 0\n",
    "for i in matcher:\n",
    "    count += 1\n",
    "if count == 1:\n",
    "    print('Valid E-mail Address')\n",
    "else:\n",
    "    print('Invalid E-mail Address')"
   ]
  },
  {
   "cell_type": "markdown",
   "metadata": {},
   "source": [
    "## Question 2: Valid Phone Number"
   ]
  },
  {
   "cell_type": "code",
   "execution_count": 5,
   "metadata": {},
   "outputs": [
    {
     "name": "stdout",
     "output_type": "stream",
     "text": [
      "Enter the phone number: +91-6736473\n",
      "Invalid Phone Number.\n"
     ]
    }
   ],
   "source": [
    "import re as r\n",
    "\n",
    "number = str(input('Enter the phone number: '))\n",
    "matcher = r.finditer('^[+][9][1][-][6-9][\\d]{9}', number)\n",
    "count = 0\n",
    "for i in matcher:\n",
    "    count += 1\n",
    "if count == 1:\n",
    "    print('Valid Phone Number.')\n",
    "else:\n",
    "    print('Invalid Phone Number.')"
   ]
  },
  {
   "cell_type": "code",
   "execution_count": null,
   "metadata": {},
   "outputs": [],
   "source": []
  }
 ],
 "metadata": {
  "kernelspec": {
   "display_name": "Python 3",
   "language": "python",
   "name": "python3"
  },
  "language_info": {
   "codemirror_mode": {
    "name": "ipython",
    "version": 3
   },
   "file_extension": ".py",
   "mimetype": "text/x-python",
   "name": "python",
   "nbconvert_exporter": "python",
   "pygments_lexer": "ipython3",
   "version": "3.7.0"
  }
 },
 "nbformat": 4,
 "nbformat_minor": 2
}
