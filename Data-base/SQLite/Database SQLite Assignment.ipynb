{
 "cells": [
  {
   "cell_type": "markdown",
   "metadata": {},
   "source": [
    "# Database SQLite Assignment"
   ]
  },
  {
   "cell_type": "markdown",
   "metadata": {},
   "source": [
    "## Question 1: Create a databse of students named Students"
   ]
  },
  {
   "cell_type": "code",
   "execution_count": 6,
   "metadata": {},
   "outputs": [
    {
     "name": "stdout",
     "output_type": "stream",
     "text": [
      "Rolled Back\n",
      "Closed Cursor and Disconnected.\n"
     ]
    }
   ],
   "source": [
    "import sqlite3\n",
    "try:\n",
    "    con=sqlite3.connect('Rhia.db')\n",
    "    cur=con.cursor()\n",
    "    query='create table Data(Name varchar(10),Marks int(4))'\n",
    "    cur.execute(query)\n",
    "    print(\"Succesfully created the table.\")\n",
    "    con.commit()\n",
    "except:\n",
    "    if con:\n",
    "        con.rollback()\n",
    "        print(\"Rolled Back\")\n",
    "finally:\n",
    "    if con:\n",
    "        cur.close()\n",
    "        con.close()\n",
    "        print(\"Closed Cursor and Disconnected.\")"
   ]
  },
  {
   "cell_type": "markdown",
   "metadata": {},
   "source": [
    "## Question 2: Take students name and marks(between 0-100) as input from user 10 times using loops"
   ]
  },
  {
   "cell_type": "markdown",
   "metadata": {},
   "source": [
    "## Question 3: Add these values in two columns named \"Name\" and \"Marks\" with the appropriate data type"
   ]
  },
  {
   "cell_type": "code",
   "execution_count": 4,
   "metadata": {},
   "outputs": [
    {
     "name": "stdout",
     "output_type": "stream",
     "text": [
      "Enter the name: jjj\n",
      "Enter the marks: 22\n",
      "Enter the name: ggg\n",
      "Enter the marks: 55\n",
      "Enter the name: ddd\n",
      "Enter the marks: 56\n",
      "Enter the name: fff\n",
      "Enter the marks: 87\n",
      "Enter the name: hgf\n",
      "Enter the marks: 987\n",
      "Marks did not lie in the given range of (0,100).\n",
      "Enter the marks again: -1\n",
      "Marks did not lie in the given range of (0,100).\n",
      "Enter the marks again: 76\n",
      "Enter the name: jhgfs\n",
      "Enter the marks: 98\n",
      "Enter the name: jhgh\n",
      "Enter the marks: 56\n",
      "Enter the name: bnv\n",
      "Enter the marks: 34\n",
      "Enter the name: kjh\n",
      "Enter the marks: 67\n",
      "Enter the name: kjjh\n",
      "Enter the marks: 56\n",
      "Cursor Closed and Disconnected.\n"
     ]
    }
   ],
   "source": [
    "import sqlite3\n",
    "i=0\n",
    "try:\n",
    "    con=sqlite3.connect('Rhia.db')\n",
    "    cursor=con.cursor()\n",
    "\n",
    "    \n",
    "    q1=\"insert into Data(Name, Marks) values(?,?)\"\n",
    "    \n",
    "    while(i<10):\n",
    "        \n",
    "        n=input(\"Enter the name: \")\n",
    "        m=int(input(\"Enter the marks: \"))\n",
    "\n",
    "        while m>100 or m<0:\n",
    "            print('Marks did not lie in the given range of (0,100).')\n",
    "            m=int(input(\"Enter the marks again: \"))\n",
    "                \n",
    "        record=[(n,m)]\n",
    "        cursor.executemany(q1,record)\n",
    "        con.commit()\n",
    "    \n",
    "        i=i+1\n",
    "    \n",
    "except sqlite3.DatabaseError as e:\n",
    "    if con:\n",
    "        con.rollback()\n",
    "        print('Problem occured: ', e)    \n",
    "    \n",
    "    \n",
    "finally:\n",
    "    if cursor:\n",
    "        cursor.close()\n",
    "    if con:\n",
    "        con.close()\n",
    "    print('Cursor Closed and Disconnected.')\n",
    "        \n",
    "    \n",
    "    \n",
    "    "
   ]
  },
  {
   "cell_type": "markdown",
   "metadata": {},
   "source": [
    "## Question 4: Print the names of all the students who scored more than 80 marks"
   ]
  },
  {
   "cell_type": "code",
   "execution_count": 5,
   "metadata": {},
   "outputs": [
    {
     "name": "stdout",
     "output_type": "stream",
     "text": [
      "Name: fff\n",
      "Name: jhgfs\n",
      "Cursor closed and Disconnected.\n"
     ]
    }
   ],
   "source": [
    "import sqlite3\n",
    "\n",
    "try:\n",
    "    con = sqlite3.connect('Rhia.db')\n",
    "    cursor = con.cursor()\n",
    "    query = 'select * from Data where Marks>80'\n",
    "    cursor.execute(query)\n",
    "    data=cursor.fetchall()\n",
    "    \n",
    "    for row in data:\n",
    "        print('Name: {}'.format(row[0]))\n",
    "        \n",
    "    \n",
    "except sqlite3.DatabaseError as e:\n",
    "    if con:\n",
    "        con.rollback()\n",
    "        print('Problem occured: ', e)\n",
    "        \n",
    "\n",
    "finally:\n",
    "    if cursor:\n",
    "        cursor.close()\n",
    "    if con:\n",
    "        con.close()\n",
    "    print('Cursor closed and Disconnected.')"
   ]
  }
 ],
 "metadata": {
  "kernelspec": {
   "display_name": "Python 3",
   "language": "python",
   "name": "python3"
  },
  "language_info": {
   "codemirror_mode": {
    "name": "ipython",
    "version": 3
   },
   "file_extension": ".py",
   "mimetype": "text/x-python",
   "name": "python",
   "nbconvert_exporter": "python",
   "pygments_lexer": "ipython3",
   "version": "3.7.0"
  }
 },
 "nbformat": 4,
 "nbformat_minor": 2
}
