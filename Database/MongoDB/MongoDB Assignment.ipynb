{
 "cells": [
  {
   "cell_type": "markdown",
   "metadata": {},
   "source": [
    "# MongoDB Assignment"
   ]
  },
  {
   "cell_type": "markdown",
   "metadata": {},
   "source": [
    "## Question 1: Write a python script to create a databse of students named Students."
   ]
  },
  {
   "cell_type": "code",
   "execution_count": 1,
   "metadata": {},
   "outputs": [],
   "source": [
    "import pymongo\n",
    "# importing pymongo module"
   ]
  },
  {
   "cell_type": "code",
   "execution_count": 2,
   "metadata": {},
   "outputs": [],
   "source": [
    "# initiallize the MongoClient\n",
    "client = pymongo.MongoClient()\n",
    "\n",
    "# creating a database 'mongodb' and connecting to it. \n",
    "database = client['mongodb']\n",
    "\n",
    "# creating the collection 'Students' in the database 'mongodb'\n",
    "collection = database['Students']\n",
    "\n"
   ]
  },
  {
   "cell_type": "markdown",
   "metadata": {},
   "source": [
    "## Question 2: Take students name and marks(between 0-100) as input from user 10 times using loops."
   ]
  },
  {
   "cell_type": "markdown",
   "metadata": {},
   "source": [
    "## Question 3: Add these values in two columns named \"Name\" and \"Marks\" with the appropriate data type."
   ]
  },
  {
   "cell_type": "code",
   "execution_count": 9,
   "metadata": {},
   "outputs": [
    {
     "name": "stdout",
     "output_type": "stream",
     "text": [
      "Enter the name: Manpreet\n",
      "Enter the marks: 93\n"
     ]
    }
   ],
   "source": [
    "i=0\n",
    "while i<1:\n",
    "    \n",
    "    name=input(\"Enter the name: \")\n",
    "    marks=int(input(\"Enter the marks: \"))\n",
    "    \n",
    "    collection.insert_one({'Name':name, 'Marks':marks})\n",
    "    \n",
    "    i=i+1"
   ]
  },
  {
   "cell_type": "code",
   "execution_count": 10,
   "metadata": {},
   "outputs": [
    {
     "name": "stdout",
     "output_type": "stream",
     "text": [
      "{'_id': ObjectId('5b94b1d15c4d6436500857b7'), 'Name': 'Rhia ', 'Marks': 100}\n",
      "{'_id': ObjectId('5b94b1d55c4d6436500857b8'), 'Name': 'Kanav', 'Marks': 100}\n",
      "{'_id': ObjectId('5b94b1d95c4d6436500857b9'), 'Name': 'Vikram ', 'Marks': 95}\n",
      "{'_id': ObjectId('5b94b1e15c4d6436500857ba'), 'Name': 'Priyanshi', 'Marks': 98}\n",
      "{'_id': ObjectId('5b94b2fe5c4d6436500857bb'), 'Name': 'Rhia', 'Marks': 98}\n",
      "{'_id': ObjectId('5b94b3045c4d6436500857bc'), 'Name': 'baby', 'Marks': 67}\n",
      "{'_id': ObjectId('5b94b3285c4d6436500857bd'), 'Name': 'Moku', 'Marks': 56}\n",
      "{'_id': ObjectId('5b94b3485c4d6436500857be'), 'Name': 'Ramjot', 'Marks': 43}\n",
      "{'_id': ObjectId('5b94b3555c4d6436500857bf'), 'Name': 'Meenakshi', 'Marks': 88}\n",
      "{'_id': ObjectId('5b94b3785c4d6436500857c0'), 'Name': 'Manpreet', 'Marks': 93}\n"
     ]
    }
   ],
   "source": [
    "data=collection.find()\n",
    "for document in data:\n",
    "    print(document)"
   ]
  },
  {
   "cell_type": "markdown",
   "metadata": {},
   "source": [
    "## Question 4: Print the names of all the students who scored more than 80 marks."
   ]
  },
  {
   "cell_type": "code",
   "execution_count": 17,
   "metadata": {},
   "outputs": [
    {
     "name": "stdout",
     "output_type": "stream",
     "text": [
      "Name: Rhia  Marks:100\n",
      "Name: Kanav Marks:100\n",
      "Name: Vikram  Marks:95\n",
      "Name: Priyanshi Marks:98\n",
      "Name: Rhia Marks:98\n",
      "Name: Meenakshi Marks:88\n",
      "Name: Manpreet Marks:93\n"
     ]
    }
   ],
   "source": [
    "find={'Marks':{'$gt':80}}\n",
    "Data=collection.find(find)\n",
    "for i in Data:\n",
    "    print(\"Name: {} Marks:{}\".format(i['Name'],i['Marks']))"
   ]
  }
 ],
 "metadata": {
  "kernelspec": {
   "display_name": "Python 3",
   "language": "python",
   "name": "python3"
  },
  "language_info": {
   "codemirror_mode": {
    "name": "ipython",
    "version": 3
   },
   "file_extension": ".py",
   "mimetype": "text/x-python",
   "name": "python",
   "nbconvert_exporter": "python",
   "pygments_lexer": "ipython3",
   "version": "3.7.0"
  }
 },
 "nbformat": 4,
 "nbformat_minor": 2
}
